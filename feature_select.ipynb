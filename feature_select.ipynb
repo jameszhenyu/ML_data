{
 "cells": [
  {
   "cell_type": "code",
   "execution_count": 12,
   "metadata": {},
   "outputs": [],
   "source": [
    "import warnings\n",
    "warnings.filterwarnings(\"ignore\")\n",
    "import pandas as pd\n",
    "import numpy as np\n",
    "from sklearn.ensemble import RandomForestRegressor\n",
    "from sklearn.model_selection import train_test_split"
   ]
  },
  {
   "cell_type": "code",
   "execution_count": 13,
   "metadata": {},
   "outputs": [
    {
     "data": {
      "text/plain": [
       "(4754, 90)"
      ]
     },
     "execution_count": 13,
     "metadata": {},
     "output_type": "execute_result"
    }
   ],
   "source": [
    "data_new=pd.read_csv('C:\\\\Users\\\\Administrator\\\\Desktop\\\\data\\\\data_new.csv')\n",
    "data_new.drop('source',axis=1,inplace=True)#source列值都是xs 可删除该特征\n",
    "data_new\n",
    "data_new.shape"
   ]
  },
  {
   "cell_type": "code",
   "execution_count": 14,
   "metadata": {},
   "outputs": [],
   "source": [
    "y_features=[]#存放y特征\n",
    "x_features=[]#存放x特征\n",
    "for col in data_new.columns:\n",
    "    if col=='status':\n",
    "        y_features.append(col)\n",
    "    else:\n",
    "        x_features.append(col)\n",
    "\n",
    "X=data_new.loc[:,x_features]\n",
    "y=data_new.loc[:,y_features]\n"
   ]
  },
  {
   "cell_type": "code",
   "execution_count": 15,
   "metadata": {},
   "outputs": [
    {
     "data": {
      "text/plain": [
       "[('0.1063', 'trans_fail_top_count_enum_last_1_month'),\n",
       " ('0.0482', 'history_fail_fee'),\n",
       " ('0.0460', 'loans_score'),\n",
       " ('0.0328', 'trans_amount_3_month'),\n",
       " ('0.0232', 'trans_day_last_12_month'),\n",
       " ('0.0219', 'repayment_capability'),\n",
       " ('0.0202', 'trans_amount_increase_rate_lately'),\n",
       " ('0.0191', 'loans_overdue_count'),\n",
       " ('0.0181', 'apply_score'),\n",
       " ('0.0163', 'trans_days_interval'),\n",
       " ('0.0159', 'first_transaction_day'),\n",
       " ('0.0158', 'loans_long_time'),\n",
       " ('0.0156', 'number_of_trans_from_2011'),\n",
       " ('0.0155', 'latest_query_day'),\n",
       " ('0.0145', 'loans_latest_day'),\n",
       " ('0.0145', 'latest_one_month_fail'),\n",
       " ('0.0144', 'historical_trans_day'),\n",
       " ('0.0143', 'avg_price_last_12_month'),\n",
       " ('0.0140', 'latest_one_month_suc'),\n",
       " ('0.0136', 'apply_credibility'),\n",
       " ('0.0133', 'consume_mini_time_last_1_month'),\n",
       " ('0.0130', 'consume_top_time_last_6_month'),\n",
       " ('0.0130', 'abs'),\n",
       " ('0.0126', 'trans_activity_month'),\n",
       " ('0.0125', 'consume_top_time_last_1_month'),\n",
       " ('0.0123', 'loans_avg_limit'),\n",
       " ('0.0122', 'trans_fail_top_count_enum_last_6_month'),\n",
       " ('0.0122', 'history_suc_fee'),\n",
       " ('0.0120', 'trans_days_interval_filter'),\n",
       " ('0.0119', 'max_cumulative_consume_later_1_month'),\n",
       " ('0.0119', 'loans_credibility_behavior'),\n",
       " ('0.0114', 'pawns_auctions_trusts_consume_last_6_month'),\n",
       " ('0.0114', 'pawns_auctions_trusts_consume_last_1_month'),\n",
       " ('0.0111', 'loans_max_limit'),\n",
       " ('0.0110', 'consfin_avg_limit'),\n",
       " ('0.0109', 'trans_top_time_last_1_month'),\n",
       " ('0.0108', 'loans_settle_count'),\n",
       " ('0.0108', 'historical_trans_amount'),\n",
       " ('0.0106', 'take_amount_in_later_12_month_highest'),\n",
       " ('0.0103', 'trans_top_time_last_6_month'),\n",
       " ('0.0102', 'consfin_credibility'),\n",
       " ('0.0098', 'query_finance_count'),\n",
       " ('0.0097', 'first_transaction_time_month'),\n",
       " ('0.0093', 'consfin_max_limit'),\n",
       " ('0.0087', 'max_consume_count_later_6_month'),\n",
       " ('0.0085', 'avg_price_top_last_12_valid_month'),\n",
       " ('0.0084', 'trans_activity_day'),\n",
       " ('0.0083', 'query_sum_count'),\n",
       " ('0.0080', 'middle_volume_percent'),\n",
       " ('0.0078', 'avg_consume_less_12_valid_month'),\n",
       " ('0.0076', 'latest_three_month_apply'),\n",
       " ('0.0076', 'first_transaction_time_weekday'),\n",
       " ('0.0075', 'loans_org_count_behavior'),\n",
       " ('0.0075', 'loans_credit_limit'),\n",
       " ('0.0074', 'transd_mcc'),\n",
       " ('0.0074', 'latest_query_time_weekday'),\n",
       " ('0.0073', 'latest_six_month_apply'),\n",
       " ('0.0073', 'consfin_credit_limit'),\n",
       " ('0.0072', 'latest_one_month_apply'),\n",
       " ('0.0071', 'latest_three_month_loan'),\n",
       " ('0.0068', 'trans_fail_top_count_enum_last_12_month'),\n",
       " ('0.0066', 'query_org_count'),\n",
       " ('0.0062', 'query_cash_count'),\n",
       " ('0.0061', 'regional_mobility'),\n",
       " ('0.0060', 'loans_latest_time_weekday'),\n",
       " ('0.0056', 'rank_trad_1_month'),\n",
       " ('0.0055', 'top_trans_count_last_1_month'),\n",
       " ('0.0055', 'loans_count'),\n",
       " ('0.0054', 'consfin_org_count_behavior'),\n",
       " ('0.0053', 'loans_credibility_limit'),\n",
       " ('0.0047', 'low_volume_percent'),\n",
       " ('0.0045', 'consfin_product_count'),\n",
       " ('0.0043', 'loans_latest_time_month'),\n",
       " ('0.0041', 'loans_org_count_current'),\n",
       " ('0.0040', 'loans_cash_count'),\n",
       " ('0.0035', 'latest_six_month_loan'),\n",
       " ('0.0031', 'loans_product_count'),\n",
       " ('0.0026', 'latest_query_time_month'),\n",
       " ('0.0025', 'cross_consume_count_last_1_month'),\n",
       " ('0.0024', 'consfin_org_count_current'),\n",
       " ('0.0017', 'railway_consume_count_last_12_month'),\n",
       " ('0.0016', 'latest_one_month_loan'),\n",
       " ('0.0014', 'reg_preference_for_trad'),\n",
       " ('0.0012', 'first_transaction_time_year'),\n",
       " ('0.0010', 'student_feature'),\n",
       " ('0.0003', 'loans_latest_time_year'),\n",
       " ('0.0001', 'jewelry_consume_count_last_6_month'),\n",
       " ('0.0000', 'latest_query_time_year'),\n",
       " ('0.0000', 'is_high_user')]"
      ]
     },
     "execution_count": 15,
     "metadata": {},
     "output_type": "execute_result"
    }
   ],
   "source": [
    "#使用随机森林选取特征\n",
    "#平均不纯度减少 mean decrease impurity\n",
    "X_train, X_test, y_train, y_test = train_test_split(X, y, test_size=0.3, random_state=2018)#划分数据集\n",
    "rf = RandomForestRegressor()\n",
    "rf.fit(X_train, y_train)\n",
    "feature1 = sorted(zip(map(lambda x: '%.4f'%x, rf.feature_importances_), list(X_train.columns)), reverse=True)\n",
    "\n",
    "len(feature1)\n",
    "feature1\n"
   ]
  },
  {
   "cell_type": "code",
   "execution_count": 16,
   "metadata": {},
   "outputs": [
    {
     "data": {
      "text/plain": [
       "[('1.2901', 'trans_fail_top_count_enum_last_1_month'),\n",
       " ('0.7537', 'history_fail_fee'),\n",
       " ('0.1759', 'loans_overdue_count'),\n",
       " ('0.1065', 'latest_one_month_fail'),\n",
       " ('0.1053', 'loans_score'),\n",
       " ('0.1013', 'trans_day_last_12_month'),\n",
       " ('0.1005', 'trans_amount_3_month'),\n",
       " ('0.0909', 'history_suc_fee'),\n",
       " ('0.0792', 'historical_trans_amount'),\n",
       " ('0.0698', 'apply_score'),\n",
       " ('0.0541', 'transd_mcc'),\n",
       " ('0.0523', 'max_consume_count_later_6_month'),\n",
       " ('0.0478', 'latest_one_month_suc'),\n",
       " ('0.0457', 'loans_long_time'),\n",
       " ('0.0416', 'latest_query_day'),\n",
       " ('0.0414', 'max_cumulative_consume_later_1_month'),\n",
       " ('0.0341', 'consume_top_time_last_6_month'),\n",
       " ('0.0331', 'repayment_capability'),\n",
       " ('0.0291', 'low_volume_percent'),\n",
       " ('0.0255', 'pawns_auctions_trusts_consume_last_1_month'),\n",
       " ('0.0247', 'pawns_auctions_trusts_consume_last_6_month'),\n",
       " ('0.0241', 'historical_trans_day'),\n",
       " ('0.0232', 'consfin_credibility'),\n",
       " ('0.0230', 'latest_three_month_loan'),\n",
       " ('0.0230', 'avg_price_last_12_month'),\n",
       " ('0.0204', 'first_transaction_time_weekday'),\n",
       " ('0.0203', 'consfin_product_count'),\n",
       " ('0.0199', 'loans_credibility_limit'),\n",
       " ('0.0195', 'trans_days_interval'),\n",
       " ('0.0194', 'consfin_avg_limit'),\n",
       " ('0.0193', 'loans_latest_time_month'),\n",
       " ('0.0189', 'trans_days_interval_filter'),\n",
       " ('0.0175', 'consume_top_time_last_1_month'),\n",
       " ('0.0170', 'latest_six_month_loan'),\n",
       " ('0.0144', 'trans_amount_increase_rate_lately'),\n",
       " ('0.0143', 'loans_avg_limit'),\n",
       " ('0.0142', 'consume_mini_time_last_1_month'),\n",
       " ('0.0142', 'abs'),\n",
       " ('0.0138', 'loans_credibility_behavior'),\n",
       " ('0.0129', 'consfin_org_count_current'),\n",
       " ('0.0129', 'avg_price_top_last_12_valid_month'),\n",
       " ('0.0126', 'cross_consume_count_last_1_month'),\n",
       " ('0.0125', 'rank_trad_1_month'),\n",
       " ('0.0123', 'trans_fail_top_count_enum_last_6_month'),\n",
       " ('0.0120', 'number_of_trans_from_2011'),\n",
       " ('0.0113', 'loans_latest_day'),\n",
       " ('0.0108', 'latest_three_month_apply'),\n",
       " ('0.0106', 'consfin_max_limit'),\n",
       " ('0.0106', 'apply_credibility'),\n",
       " ('0.0105', 'loans_latest_time_weekday'),\n",
       " ('0.0105', 'loans_credit_limit'),\n",
       " ('0.0101', 'loans_count'),\n",
       " ('0.0101', 'loans_cash_count'),\n",
       " ('0.0098', 'latest_query_time_weekday'),\n",
       " ('0.0096', 'top_trans_count_last_1_month'),\n",
       " ('0.0096', 'query_finance_count'),\n",
       " ('0.0093', 'first_transaction_day'),\n",
       " ('0.0091', 'loans_org_count_behavior'),\n",
       " ('0.0090', 'trans_activity_month'),\n",
       " ('0.0089', 'consfin_credit_limit'),\n",
       " ('0.0079', 'latest_six_month_apply'),\n",
       " ('0.0078', 'query_org_count'),\n",
       " ('0.0077', 'latest_one_month_apply'),\n",
       " ('0.0074', 'loans_org_count_current'),\n",
       " ('0.0073', 'trans_activity_day'),\n",
       " ('0.0067', 'take_amount_in_later_12_month_highest'),\n",
       " ('0.0061', 'query_cash_count'),\n",
       " ('0.0053', 'trans_fail_top_count_enum_last_12_month'),\n",
       " ('0.0052', 'first_transaction_time_year'),\n",
       " ('0.0051', 'first_transaction_time_month'),\n",
       " ('0.0049', 'avg_consume_less_12_valid_month'),\n",
       " ('0.0048', 'middle_volume_percent'),\n",
       " ('0.0046', 'railway_consume_count_last_12_month'),\n",
       " ('0.0041', 'loans_settle_count'),\n",
       " ('0.0035', 'regional_mobility'),\n",
       " ('0.0029', 'loans_latest_time_year'),\n",
       " ('0.0025', 'trans_top_time_last_1_month'),\n",
       " ('0.0022', 'reg_preference_for_trad'),\n",
       " ('0.0016', 'latest_one_month_loan'),\n",
       " ('0.0014', 'loans_product_count'),\n",
       " ('0.0014', 'latest_query_time_month'),\n",
       " ('0.0010', 'query_sum_count'),\n",
       " ('0.0006', 'consfin_org_count_behavior'),\n",
       " ('0.0004', 'jewelry_consume_count_last_6_month'),\n",
       " ('0.0003', 'loans_max_limit'),\n",
       " ('0.0003', 'latest_query_time_year'),\n",
       " ('0.0001', 'trans_top_time_last_6_month'),\n",
       " ('0.0001', 'student_feature'),\n",
       " ('0.0000', 'is_high_user')]"
      ]
     },
     "execution_count": 16,
     "metadata": {},
     "output_type": "execute_result"
    }
   ],
   "source": [
    "#平均精确率减少 Mean decrease accuracy\n",
    "import numpy as np\n",
    "from collections import defaultdict\n",
    "from sklearn.model_selection import cross_val_score, ShuffleSplit\n",
    "\n",
    "from sklearn.metrics import r2_score\n",
    "\n",
    "scores = defaultdict(list)\n",
    "rs = ShuffleSplit(n_splits=5, test_size=0.3, random_state=2018)\n",
    "for train_idx, test_idx in rs.split(X_train):\n",
    "    x_train, x_test = X_train.values[train_idx], X_train.values[test_idx]\n",
    "    Y_train, Y_test = y_train.values[train_idx], y_train.values[test_idx]\n",
    "    r = rf.fit(x_train, Y_train)\n",
    "    acc = r2_score(Y_test, rf.predict(x_test))\n",
    "    for i in range(x_train.shape[1]):\n",
    "        X_t = x_test.copy()\n",
    "        np.random.shuffle(X_t[:, i])\n",
    "        shuff_acc = r2_score(Y_test, rf.predict(X_t))\n",
    "        scores[X_train.columns[i]].append((acc - shuff_acc) / acc)\n",
    "        \n",
    "feature2=sorted([('%.4f'%abs(np.mean(score)), feat) for feat, score in scores.items()], reverse=True)\n",
    "\n",
    "len(feature2)\n",
    "feature2"
   ]
  },
  {
   "cell_type": "code",
   "execution_count": 18,
   "metadata": {},
   "outputs": [
    {
     "data": {
      "text/plain": [
       "['regional_mobility',\n",
       " 'student_feature',\n",
       " 'is_high_user',\n",
       " 'top_trans_count_last_1_month',\n",
       " 'reg_preference_for_trad',\n",
       " 'trans_fail_top_count_enum_last_12_month',\n",
       " 'railway_consume_count_last_12_month',\n",
       " 'jewelry_consume_count_last_6_month',\n",
       " 'query_org_count',\n",
       " 'query_cash_count',\n",
       " 'latest_one_month_apply',\n",
       " 'latest_six_month_apply',\n",
       " 'loans_count',\n",
       " 'loans_org_count_behavior',\n",
       " 'consfin_org_count_behavior',\n",
       " 'loans_cash_count',\n",
       " 'latest_one_month_loan',\n",
       " 'loans_credit_limit',\n",
       " 'loans_org_count_current',\n",
       " 'loans_product_count',\n",
       " 'consfin_credit_limit',\n",
       " 'first_transaction_time_year',\n",
       " 'latest_query_time_year',\n",
       " 'latest_query_time_month',\n",
       " 'latest_query_time_weekday',\n",
       " 'loans_latest_time_year']"
      ]
     },
     "execution_count": 18,
     "metadata": {},
     "output_type": "execute_result"
    }
   ],
   "source": [
    "#根据之前两个算的相关性的值，综合选择特征，选择两种排列后四十个的数据 作比较\n",
    "drop_feature = []#要删除的特征\n",
    "for feature in X_train.columns:\n",
    "    if feature in [t[1] for t in feature1[50:]] and feature in [t[1] for t in feature2[50:]]:\n",
    "        drop_feature.append(feature)\n",
    "\n",
    "drop_feature"
   ]
  },
  {
   "cell_type": "code",
   "execution_count": 19,
   "metadata": {},
   "outputs": [],
   "source": [
    "X_train.drop(drop_feature, axis = 1, inplace = True)\n",
    "X_test.drop(drop_feature, axis = 1, inplace = True)"
   ]
  },
  {
   "cell_type": "code",
   "execution_count": 21,
   "metadata": {},
   "outputs": [
    {
     "data": {
      "text/plain": [
       "Index(['low_volume_percent', 'middle_volume_percent',\n",
       "       'take_amount_in_later_12_month_highest',\n",
       "       'trans_amount_increase_rate_lately', 'trans_activity_month',\n",
       "       'trans_activity_day', 'transd_mcc', 'trans_days_interval_filter',\n",
       "       'trans_days_interval', 'repayment_capability',\n",
       "       'number_of_trans_from_2011', 'historical_trans_amount',\n",
       "       'historical_trans_day', 'rank_trad_1_month', 'trans_amount_3_month',\n",
       "       'avg_consume_less_12_valid_month', 'abs', 'avg_price_last_12_month',\n",
       "       'avg_price_top_last_12_valid_month', 'trans_top_time_last_1_month',\n",
       "       'trans_top_time_last_6_month', 'consume_top_time_last_1_month',\n",
       "       'consume_top_time_last_6_month', 'cross_consume_count_last_1_month',\n",
       "       'trans_fail_top_count_enum_last_1_month',\n",
       "       'trans_fail_top_count_enum_last_6_month',\n",
       "       'consume_mini_time_last_1_month',\n",
       "       'max_cumulative_consume_later_1_month',\n",
       "       'max_consume_count_later_6_month',\n",
       "       'pawns_auctions_trusts_consume_last_1_month',\n",
       "       'pawns_auctions_trusts_consume_last_6_month', 'first_transaction_day',\n",
       "       'trans_day_last_12_month', 'apply_score', 'apply_credibility',\n",
       "       'query_finance_count', 'query_sum_count', 'latest_three_month_apply',\n",
       "       'loans_score', 'loans_credibility_behavior', 'loans_settle_count',\n",
       "       'loans_overdue_count', 'latest_three_month_loan',\n",
       "       'latest_six_month_loan', 'history_suc_fee', 'history_fail_fee',\n",
       "       'latest_one_month_suc', 'latest_one_month_fail', 'loans_long_time',\n",
       "       'loans_credibility_limit', 'loans_max_limit', 'loans_avg_limit',\n",
       "       'consfin_credibility', 'consfin_org_count_current',\n",
       "       'consfin_product_count', 'consfin_max_limit', 'consfin_avg_limit',\n",
       "       'latest_query_day', 'loans_latest_day', 'first_transaction_time_month',\n",
       "       'first_transaction_time_weekday', 'loans_latest_time_month',\n",
       "       'loans_latest_time_weekday'],\n",
       "      dtype='object')"
      ]
     },
     "execution_count": 21,
     "metadata": {},
     "output_type": "execute_result"
    }
   ],
   "source": [
    "X_train.columns#剩下的特征\n"
   ]
  },
  {
   "cell_type": "code",
   "execution_count": 22,
   "metadata": {},
   "outputs": [
    {
     "data": {
      "text/plain": [
       "63"
      ]
     },
     "execution_count": 22,
     "metadata": {},
     "output_type": "execute_result"
    }
   ],
   "source": [
    "len(X_train.columns)#剩下的特征个数"
   ]
  }
 ],
 "metadata": {
  "kernelspec": {
   "display_name": "Python 3",
   "language": "python",
   "name": "python3"
  },
  "language_info": {
   "codemirror_mode": {
    "name": "ipython",
    "version": 3
   },
   "file_extension": ".py",
   "mimetype": "text/x-python",
   "name": "python",
   "nbconvert_exporter": "python",
   "pygments_lexer": "ipython3",
   "version": "3.6.5"
  }
 },
 "nbformat": 4,
 "nbformat_minor": 2
}
